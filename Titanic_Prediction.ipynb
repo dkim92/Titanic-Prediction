{
 "cells": [
  {
   "cell_type": "markdown",
   "metadata": {},
   "source": [
    "# Titanic data: Learning from disaster\n",
    "### task: \n",
    "predicting survival of a passage given his/her ticket class, class, name, gender, age, number of siblings / spouses aboard, number of parents / children aboard, ticket number, cabin number and Port of embarkation"
   ]
  },
  {
   "cell_type": "code",
   "execution_count": 1,
   "metadata": {},
   "outputs": [
    {
     "name": "stderr",
     "output_type": "stream",
     "text": [
      "/Users/DK/anaconda/lib/python2.7/site-packages/sklearn/cross_validation.py:44: DeprecationWarning: This module was deprecated in version 0.18 in favor of the model_selection module into which all the refactored classes and functions are moved. Also note that the interface of the new CV iterators are different from that of this module. This module will be removed in 0.20.\n",
      "  \"This module will be removed in 0.20.\", DeprecationWarning)\n"
     ]
    }
   ],
   "source": [
    "#import all necessary libraries\n",
    "import pandas as pd\n",
    "import numpy as np\n",
    "import matplotlib.pyplot as plt\n",
    "%matplotlib inline\n",
    "from sklearn.cross_validation import train_test_split\n",
    "from sklearn.ensemble import RandomForestClassifier\n",
    "from sklearn.ensemble import GradientBoostingClassifier\n",
    "from sklearn.linear_model import LogisticRegression\n",
    "\n",
    "from sklearn.feature_selection import SelectFromModel\n",
    "from sklearn.cross_validation import cross_val_score\n",
    "\n",
    "from sklearn.metrics import accuracy_score, f1_score\n",
    "from sklearn.metrics import precision_score, recall_score\n",
    "\n",
    "import warnings\n",
    "warnings.filterwarnings('ignore')"
   ]
  },
  {
   "cell_type": "markdown",
   "metadata": {},
   "source": [
    "## Load data and set target as survival"
   ]
  },
  {
   "cell_type": "code",
   "execution_count": 2,
   "metadata": {
    "collapsed": true
   },
   "outputs": [],
   "source": [
    "train = pd.read_csv('train.csv')\n",
    "test = pd.read_csv('test.csv')"
   ]
  },
  {
   "cell_type": "markdown",
   "metadata": {},
   "source": [
    "## Clean and explore data set:"
   ]
  },
  {
   "cell_type": "code",
   "execution_count": 3,
   "metadata": {},
   "outputs": [
    {
     "name": "stdout",
     "output_type": "stream",
     "text": [
      "<class 'pandas.core.frame.DataFrame'>\n",
      "RangeIndex: 891 entries, 0 to 890\n",
      "Data columns (total 12 columns):\n",
      "PassengerId    891 non-null int64\n",
      "Survived       891 non-null int64\n",
      "Pclass         891 non-null int64\n",
      "Name           891 non-null object\n",
      "Sex            891 non-null object\n",
      "Age            714 non-null float64\n",
      "SibSp          891 non-null int64\n",
      "Parch          891 non-null int64\n",
      "Ticket         891 non-null object\n",
      "Fare           891 non-null float64\n",
      "Cabin          204 non-null object\n",
      "Embarked       889 non-null object\n",
      "dtypes: float64(2), int64(5), object(5)\n",
      "memory usage: 83.6+ KB\n"
     ]
    }
   ],
   "source": [
    "train.info()"
   ]
  },
  {
   "cell_type": "code",
   "execution_count": 4,
   "metadata": {},
   "outputs": [
    {
     "name": "stdout",
     "output_type": "stream",
     "text": [
      "<class 'pandas.core.frame.DataFrame'>\n",
      "RangeIndex: 418 entries, 0 to 417\n",
      "Data columns (total 11 columns):\n",
      "PassengerId    418 non-null int64\n",
      "Pclass         418 non-null int64\n",
      "Name           418 non-null object\n",
      "Sex            418 non-null object\n",
      "Age            332 non-null float64\n",
      "SibSp          418 non-null int64\n",
      "Parch          418 non-null int64\n",
      "Ticket         418 non-null object\n",
      "Fare           417 non-null float64\n",
      "Cabin          91 non-null object\n",
      "Embarked       418 non-null object\n",
      "dtypes: float64(2), int64(4), object(5)\n",
      "memory usage: 36.0+ KB\n"
     ]
    }
   ],
   "source": [
    "test.info()"
   ]
  },
  {
   "cell_type": "markdown",
   "metadata": {},
   "source": [
    "before any modeling can be done on both the training and testing data sets, there must be no null values for any of the columns"
   ]
  },
  {
   "cell_type": "code",
   "execution_count": 5,
   "metadata": {
    "collapsed": true
   },
   "outputs": [],
   "source": [
    "df = train.append(test, ignore_index=True)"
   ]
  },
  {
   "cell_type": "code",
   "execution_count": 6,
   "metadata": {
    "collapsed": true
   },
   "outputs": [],
   "source": [
    "#since a vast majority embarked from S, the null values will be filled with S\n",
    "df.Embarked = np.where(df.Embarked.isnull(), 'S', df.Embarked)\n",
    "\n",
    "#U will be used to fill in the cabin value for Unknown\n",
    "df['Cabin'] = np.where(df.Cabin.isnull(), 'U', df.Cabin)\n",
    "\n",
    "#median fare will be used to fill in the null value for Fare\n",
    "df.Fare = np.where(df.Fare.isnull(), df.Fare.median(), df.Fare)"
   ]
  },
  {
   "cell_type": "markdown",
   "metadata": {},
   "source": [
    "## Visual representation of survival based on sex"
   ]
  },
  {
   "cell_type": "code",
   "execution_count": 7,
   "metadata": {},
   "outputs": [
    {
     "data": {
      "text/plain": [
       "<matplotlib.axes._subplots.AxesSubplot at 0x11b21d610>"
      ]
     },
     "execution_count": 7,
     "metadata": {},
     "output_type": "execute_result"
    },
    {
     "data": {
      "image/png": "[encoded data removed]",
      "text/plain": [
       "<matplotlib.figure.Figure at 0x11b204e50>"
      ]
     },
     "metadata": {},
     "output_type": "display_data"
    }
   ],
   "source": [
    "survived_by_sex = df[df['Survived'] == 1]['Sex'].value_counts()\n",
    "not_survived_by_sex = df[df['Survived'] == 0]['Sex'].value_counts()\n",
    "plot_df = pd.DataFrame([survived_by_sex, not_survived_by_sex])\n",
    "plot_df.index = ['Survived', 'Dead']\n",
    "plot_df.plot(kind='bar', stacked=True, figsize=(14,6))"
   ]
  },
  {
   "cell_type": "markdown",
   "metadata": {},
   "source": [
    "## Visual representation of survival based on fare paid"
   ]
  },
  {
   "cell_type": "code",
   "execution_count": 8,
   "metadata": {},
   "outputs": [
    {
     "data": {
      "text/plain": [
       "<matplotlib.legend.Legend at 0x11e571990>"
      ]
     },
     "execution_count": 8,
     "metadata": {},
     "output_type": "execute_result"
    },
    {
     "data": {
      "image/png": "[encoded data removed]",
      "text/plain": [
       "<matplotlib.figure.Figure at 0x11b204a90>"
      ]
     },
     "metadata": {},
     "output_type": "display_data"
    }
   ],
   "source": [
    "fig = plt.figure(figsize=(14,6))\n",
    "plt.hist([df[df['Survived'] == 1]['Fare'], df[df['Survived'] == 0]['Fare']], stacked=True, color= ['g', 'r'], bins = 30, label = ['Survived', 'Dead'])\n",
    "plt.xlabel('Fare')\n",
    "plt.ylabel('# of passengers')\n",
    "plt.legend()"
   ]
  },
  {
   "cell_type": "markdown",
   "metadata": {},
   "source": [
    "## Average fare paid based on the class"
   ]
  },
  {
   "cell_type": "code",
   "execution_count": 9,
   "metadata": {},
   "outputs": [
    {
     "data": {
      "text/plain": [
       "<matplotlib.axes._subplots.AxesSubplot at 0x11ea9e6d0>"
      ]
     },
     "execution_count": 9,
     "metadata": {},
     "output_type": "execute_result"
    },
    {
     "data": {
      "image/png": "[encoded data removed]",
      "text/plain": [
       "<matplotlib.figure.Figure at 0x11b204190>"
      ]
     },
     "metadata": {},
     "output_type": "display_data"
    }
   ],
   "source": [
    "ax = plt.subplot()\n",
    "ax.set_ylabel('Average fare')\n",
    "df.groupby('Pclass').mean()['Fare'].plot(kind='bar',figsize=(14,6), ax = ax)"
   ]
  },
  {
   "cell_type": "markdown",
   "metadata": {},
   "source": [
    "## Visual representation based on where passenger embarked"
   ]
  },
  {
   "cell_type": "code",
   "execution_count": 10,
   "metadata": {},
   "outputs": [
    {
     "data": {
      "text/plain": [
       "<matplotlib.axes._subplots.AxesSubplot at 0x11e59e210>"
      ]
     },
     "execution_count": 10,
     "metadata": {},
     "output_type": "execute_result"
    },
    {
     "data": {
      "image/png": "[encoded data removed]",
      "text/plain": [
       "<matplotlib.figure.Figure at 0x11b204cd0>"
      ]
     },
     "metadata": {},
     "output_type": "display_data"
    }
   ],
   "source": [
    "survived_by_embark = df[df['Survived'] == 1]['Embarked'].value_counts()\n",
    "not_survived_by_embark = df[df['Survived'] == 1]['Embarked'].value_counts()\n",
    "plot_df = pd.DataFrame([survived_by_embark, not_survived_by_embark])\n",
    "plot_df.index = ['Survived', 'Not Survived']\n",
    "plot_df.plot(kind='bar', stacked=True, figsize=(14,6))"
   ]
  },
  {
   "cell_type": "code",
   "execution_count": 11,
   "metadata": {
    "collapsed": true
   },
   "outputs": [],
   "source": [
    "y = train.Survived\n",
    "\n",
    "new_df = df.copy()\n",
    "new_df.drop('Survived', axis=1, inplace=True)"
   ]
  },
  {
   "cell_type": "markdown",
   "metadata": {},
   "source": [
    "## Feature engineering:\n",
    "features will be created and enhanced in order to optimize the accuracy of the prediction"
   ]
  },
  {
   "cell_type": "code",
   "execution_count": 12,
   "metadata": {
    "collapsed": true
   },
   "outputs": [],
   "source": [
    "#extract title from name and map titles to categories of titles\n",
    "title_dictionary = {\n",
    "                        \"Capt\":       \"Officer\",\n",
    "                        \"Col\":        \"Officer\",\n",
    "                        \"Major\":      \"Officer\",\n",
    "                        \"Jonkheer\":   \"Royalty\",\n",
    "                        \"Don\":        \"Royalty\",\n",
    "                        \"Sir\" :       \"Royalty\",\n",
    "                        \"Dr\":         \"Officer\",\n",
    "                        \"Rev\":        \"Officer\",\n",
    "                        \"the Countess\":\"Royalty\",\n",
    "                        \"Dona\":       \"Royalty\",\n",
    "                        \"Mme\":        \"Mrs\",\n",
    "                        \"Mlle\":       \"Miss\",\n",
    "                        \"Ms\":         \"Mrs\",\n",
    "                        \"Mr\" :        \"Mr\",\n",
    "                        \"Mrs\" :       \"Mrs\",\n",
    "                        \"Miss\" :      \"Miss\",\n",
    "                        \"Master\" :    \"Master\",\n",
    "                        \"Lady\" :      \"Royalty\"\n",
    "\n",
    "                        }\n",
    "new_df['Title'] = new_df['Name'].map(lambda name:name.split(',')[1].split('.')[0].strip())\n",
    "new_df['Title'] = new_df.Title.map(title_dictionary)"
   ]
  },
  {
   "cell_type": "code",
   "execution_count": 13,
   "metadata": {
    "collapsed": true
   },
   "outputs": [],
   "source": [
    "#the reason to not use median age to fill in is because there is a diverse range of ages based on title, sex, and pclass\n",
    "grouped_train = new_df.head(891).groupby(['Sex','Pclass','Title'])\n",
    "grouped_median_train = grouped_train.median()\n",
    "\n",
    "grouped_test = new_df.iloc[891:].groupby(['Sex','Pclass','Title'])\n",
    "grouped_median_test = grouped_test.median()"
   ]
  },
  {
   "cell_type": "code",
   "execution_count": 14,
   "metadata": {},
   "outputs": [
    {
     "data": {
      "text/html": [
       "<div>\n",
       "<style>\n",
       "    .dataframe thead tr:only-child th {\n",
       "        text-align: right;\n",
       "    }\n",
       "\n",
       "    .dataframe thead th {\n",
       "        text-align: left;\n",
       "    }\n",
       "\n",
       "    .dataframe tbody tr th {\n",
       "        vertical-align: top;\n",
       "    }\n",
       "</style>\n",
       "<table border=\"1\" class=\"dataframe\">\n",
       "  <thead>\n",
       "    <tr style=\"text-align: right;\">\n",
       "      <th></th>\n",
       "      <th></th>\n",
       "      <th></th>\n",
       "      <th>Age</th>\n",
       "      <th>Fare</th>\n",
       "      <th>Parch</th>\n",
       "      <th>PassengerId</th>\n",
       "      <th>SibSp</th>\n",
       "    </tr>\n",
       "    <tr>\n",
       "      <th>Sex</th>\n",
       "      <th>Pclass</th>\n",
       "      <th>Title</th>\n",
       "      <th></th>\n",
       "      <th></th>\n",
       "      <th></th>\n",
       "      <th></th>\n",
       "      <th></th>\n",
       "    </tr>\n",
       "  </thead>\n",
       "  <tbody>\n",
       "    <tr>\n",
       "      <th rowspan=\"8\" valign=\"top\">female</th>\n",
       "      <th rowspan=\"4\" valign=\"top\">1</th>\n",
       "      <th>Miss</th>\n",
       "      <td>30.0</td>\n",
       "      <td>88.25000</td>\n",
       "      <td>0.0</td>\n",
       "      <td>369.0</td>\n",
       "      <td>0.0</td>\n",
       "    </tr>\n",
       "    <tr>\n",
       "      <th>Mrs</th>\n",
       "      <td>40.0</td>\n",
       "      <td>79.20000</td>\n",
       "      <td>0.0</td>\n",
       "      <td>499.0</td>\n",
       "      <td>1.0</td>\n",
       "    </tr>\n",
       "    <tr>\n",
       "      <th>Officer</th>\n",
       "      <td>49.0</td>\n",
       "      <td>25.92920</td>\n",
       "      <td>0.0</td>\n",
       "      <td>797.0</td>\n",
       "      <td>0.0</td>\n",
       "    </tr>\n",
       "    <tr>\n",
       "      <th>Royalty</th>\n",
       "      <td>40.5</td>\n",
       "      <td>63.05000</td>\n",
       "      <td>0.0</td>\n",
       "      <td>658.5</td>\n",
       "      <td>0.5</td>\n",
       "    </tr>\n",
       "    <tr>\n",
       "      <th rowspan=\"2\" valign=\"top\">2</th>\n",
       "      <th>Miss</th>\n",
       "      <td>24.0</td>\n",
       "      <td>13.00000</td>\n",
       "      <td>0.0</td>\n",
       "      <td>437.5</td>\n",
       "      <td>0.0</td>\n",
       "    </tr>\n",
       "    <tr>\n",
       "      <th>Mrs</th>\n",
       "      <td>31.5</td>\n",
       "      <td>26.00000</td>\n",
       "      <td>0.0</td>\n",
       "      <td>439.5</td>\n",
       "      <td>1.0</td>\n",
       "    </tr>\n",
       "    <tr>\n",
       "      <th rowspan=\"2\" valign=\"top\">3</th>\n",
       "      <th>Miss</th>\n",
       "      <td>18.0</td>\n",
       "      <td>8.75625</td>\n",
       "      <td>0.0</td>\n",
       "      <td>372.0</td>\n",
       "      <td>0.0</td>\n",
       "    </tr>\n",
       "    <tr>\n",
       "      <th>Mrs</th>\n",
       "      <td>31.0</td>\n",
       "      <td>15.97500</td>\n",
       "      <td>1.0</td>\n",
       "      <td>405.5</td>\n",
       "      <td>1.0</td>\n",
       "    </tr>\n",
       "    <tr>\n",
       "      <th rowspan=\"9\" valign=\"top\">male</th>\n",
       "      <th rowspan=\"4\" valign=\"top\">1</th>\n",
       "      <th>Master</th>\n",
       "      <td>4.0</td>\n",
       "      <td>120.00000</td>\n",
       "      <td>2.0</td>\n",
       "      <td>446.0</td>\n",
       "      <td>1.0</td>\n",
       "    </tr>\n",
       "    <tr>\n",
       "      <th>Mr</th>\n",
       "      <td>40.0</td>\n",
       "      <td>42.40000</td>\n",
       "      <td>0.0</td>\n",
       "      <td>463.0</td>\n",
       "      <td>0.0</td>\n",
       "    </tr>\n",
       "    <tr>\n",
       "      <th>Officer</th>\n",
       "      <td>51.0</td>\n",
       "      <td>35.50000</td>\n",
       "      <td>0.0</td>\n",
       "      <td>648.0</td>\n",
       "      <td>0.0</td>\n",
       "    </tr>\n",
       "    <tr>\n",
       "      <th>Royalty</th>\n",
       "      <td>40.0</td>\n",
       "      <td>27.72080</td>\n",
       "      <td>0.0</td>\n",
       "      <td>600.0</td>\n",
       "      <td>0.0</td>\n",
       "    </tr>\n",
       "    <tr>\n",
       "      <th rowspan=\"3\" valign=\"top\">2</th>\n",
       "      <th>Master</th>\n",
       "      <td>1.0</td>\n",
       "      <td>26.00000</td>\n",
       "      <td>1.0</td>\n",
       "      <td>408.0</td>\n",
       "      <td>1.0</td>\n",
       "    </tr>\n",
       "    <tr>\n",
       "      <th>Mr</th>\n",
       "      <td>31.0</td>\n",
       "      <td>13.00000</td>\n",
       "      <td>0.0</td>\n",
       "      <td>440.0</td>\n",
       "      <td>0.0</td>\n",
       "    </tr>\n",
       "    <tr>\n",
       "      <th>Officer</th>\n",
       "      <td>46.5</td>\n",
       "      <td>13.00000</td>\n",
       "      <td>0.0</td>\n",
       "      <td>358.5</td>\n",
       "      <td>0.0</td>\n",
       "    </tr>\n",
       "    <tr>\n",
       "      <th rowspan=\"2\" valign=\"top\">3</th>\n",
       "      <th>Master</th>\n",
       "      <td>4.0</td>\n",
       "      <td>28.51250</td>\n",
       "      <td>1.0</td>\n",
       "      <td>270.5</td>\n",
       "      <td>3.5</td>\n",
       "    </tr>\n",
       "    <tr>\n",
       "      <th>Mr</th>\n",
       "      <td>26.0</td>\n",
       "      <td>7.89580</td>\n",
       "      <td>0.0</td>\n",
       "      <td>472.0</td>\n",
       "      <td>0.0</td>\n",
       "    </tr>\n",
       "  </tbody>\n",
       "</table>\n",
       "</div>"
      ],
      "text/plain": [
       "                        Age       Fare  Parch  PassengerId  SibSp\n",
       "Sex    Pclass Title                                              \n",
       "female 1      Miss     30.0   88.25000    0.0        369.0    0.0\n",
       "              Mrs      40.0   79.20000    0.0        499.0    1.0\n",
       "              Officer  49.0   25.92920    0.0        797.0    0.0\n",
       "              Royalty  40.5   63.05000    0.0        658.5    0.5\n",
       "       2      Miss     24.0   13.00000    0.0        437.5    0.0\n",
       "              Mrs      31.5   26.00000    0.0        439.5    1.0\n",
       "       3      Miss     18.0    8.75625    0.0        372.0    0.0\n",
       "              Mrs      31.0   15.97500    1.0        405.5    1.0\n",
       "male   1      Master    4.0  120.00000    2.0        446.0    1.0\n",
       "              Mr       40.0   42.40000    0.0        463.0    0.0\n",
       "              Officer  51.0   35.50000    0.0        648.0    0.0\n",
       "              Royalty  40.0   27.72080    0.0        600.0    0.0\n",
       "       2      Master    1.0   26.00000    1.0        408.0    1.0\n",
       "              Mr       31.0   13.00000    0.0        440.0    0.0\n",
       "              Officer  46.5   13.00000    0.0        358.5    0.0\n",
       "       3      Master    4.0   28.51250    1.0        270.5    3.5\n",
       "              Mr       26.0    7.89580    0.0        472.0    0.0"
      ]
     },
     "execution_count": 14,
     "metadata": {},
     "output_type": "execute_result"
    }
   ],
   "source": [
    "grouped_median_train"
   ]
  },
  {
   "cell_type": "code",
   "execution_count": 15,
   "metadata": {},
   "outputs": [
    {
     "data": {
      "text/html": [
       "<div>\n",
       "<style>\n",
       "    .dataframe thead tr:only-child th {\n",
       "        text-align: right;\n",
       "    }\n",
       "\n",
       "    .dataframe thead th {\n",
       "        text-align: left;\n",
       "    }\n",
       "\n",
       "    .dataframe tbody tr th {\n",
       "        vertical-align: top;\n",
       "    }\n",
       "</style>\n",
       "<table border=\"1\" class=\"dataframe\">\n",
       "  <thead>\n",
       "    <tr style=\"text-align: right;\">\n",
       "      <th></th>\n",
       "      <th></th>\n",
       "      <th></th>\n",
       "      <th>Age</th>\n",
       "      <th>Fare</th>\n",
       "      <th>Parch</th>\n",
       "      <th>PassengerId</th>\n",
       "      <th>SibSp</th>\n",
       "    </tr>\n",
       "    <tr>\n",
       "      <th>Sex</th>\n",
       "      <th>Pclass</th>\n",
       "      <th>Title</th>\n",
       "      <th></th>\n",
       "      <th></th>\n",
       "      <th></th>\n",
       "      <th></th>\n",
       "      <th></th>\n",
       "    </tr>\n",
       "  </thead>\n",
       "  <tbody>\n",
       "    <tr>\n",
       "      <th rowspan=\"7\" valign=\"top\">female</th>\n",
       "      <th rowspan=\"3\" valign=\"top\">1</th>\n",
       "      <th>Miss</th>\n",
       "      <td>32.0</td>\n",
       "      <td>158.20835</td>\n",
       "      <td>0.0</td>\n",
       "      <td>1074.0</td>\n",
       "      <td>0.0</td>\n",
       "    </tr>\n",
       "    <tr>\n",
       "      <th>Mrs</th>\n",
       "      <td>48.0</td>\n",
       "      <td>63.35830</td>\n",
       "      <td>0.0</td>\n",
       "      <td>1076.0</td>\n",
       "      <td>1.0</td>\n",
       "    </tr>\n",
       "    <tr>\n",
       "      <th>Royalty</th>\n",
       "      <td>39.0</td>\n",
       "      <td>108.90000</td>\n",
       "      <td>0.0</td>\n",
       "      <td>1306.0</td>\n",
       "      <td>0.0</td>\n",
       "    </tr>\n",
       "    <tr>\n",
       "      <th rowspan=\"2\" valign=\"top\">2</th>\n",
       "      <th>Miss</th>\n",
       "      <td>19.5</td>\n",
       "      <td>24.50000</td>\n",
       "      <td>1.0</td>\n",
       "      <td>1121.0</td>\n",
       "      <td>1.0</td>\n",
       "    </tr>\n",
       "    <tr>\n",
       "      <th>Mrs</th>\n",
       "      <td>29.0</td>\n",
       "      <td>26.00000</td>\n",
       "      <td>0.0</td>\n",
       "      <td>1123.5</td>\n",
       "      <td>0.0</td>\n",
       "    </tr>\n",
       "    <tr>\n",
       "      <th rowspan=\"2\" valign=\"top\">3</th>\n",
       "      <th>Miss</th>\n",
       "      <td>22.0</td>\n",
       "      <td>7.87920</td>\n",
       "      <td>0.0</td>\n",
       "      <td>1090.5</td>\n",
       "      <td>0.0</td>\n",
       "    </tr>\n",
       "    <tr>\n",
       "      <th>Mrs</th>\n",
       "      <td>28.0</td>\n",
       "      <td>14.28125</td>\n",
       "      <td>0.5</td>\n",
       "      <td>1048.0</td>\n",
       "      <td>1.0</td>\n",
       "    </tr>\n",
       "    <tr>\n",
       "      <th rowspan=\"8\" valign=\"top\">male</th>\n",
       "      <th rowspan=\"3\" valign=\"top\">1</th>\n",
       "      <th>Master</th>\n",
       "      <td>9.5</td>\n",
       "      <td>198.43750</td>\n",
       "      <td>2.0</td>\n",
       "      <td>1022.0</td>\n",
       "      <td>1.0</td>\n",
       "    </tr>\n",
       "    <tr>\n",
       "      <th>Mr</th>\n",
       "      <td>42.0</td>\n",
       "      <td>50.24790</td>\n",
       "      <td>0.0</td>\n",
       "      <td>1102.0</td>\n",
       "      <td>0.0</td>\n",
       "    </tr>\n",
       "    <tr>\n",
       "      <th>Officer</th>\n",
       "      <td>53.0</td>\n",
       "      <td>81.85830</td>\n",
       "      <td>0.0</td>\n",
       "      <td>1094.0</td>\n",
       "      <td>1.0</td>\n",
       "    </tr>\n",
       "    <tr>\n",
       "      <th rowspan=\"3\" valign=\"top\">2</th>\n",
       "      <th>Master</th>\n",
       "      <td>5.0</td>\n",
       "      <td>27.75000</td>\n",
       "      <td>1.5</td>\n",
       "      <td>1033.5</td>\n",
       "      <td>0.5</td>\n",
       "    </tr>\n",
       "    <tr>\n",
       "      <th>Mr</th>\n",
       "      <td>28.0</td>\n",
       "      <td>13.00000</td>\n",
       "      <td>0.0</td>\n",
       "      <td>1156.0</td>\n",
       "      <td>0.0</td>\n",
       "    </tr>\n",
       "    <tr>\n",
       "      <th>Officer</th>\n",
       "      <td>35.5</td>\n",
       "      <td>19.50000</td>\n",
       "      <td>0.5</td>\n",
       "      <td>1048.5</td>\n",
       "      <td>0.5</td>\n",
       "    </tr>\n",
       "    <tr>\n",
       "      <th rowspan=\"2\" valign=\"top\">3</th>\n",
       "      <th>Master</th>\n",
       "      <td>7.0</td>\n",
       "      <td>15.24580</td>\n",
       "      <td>1.0</td>\n",
       "      <td>1173.0</td>\n",
       "      <td>1.0</td>\n",
       "    </tr>\n",
       "    <tr>\n",
       "      <th>Mr</th>\n",
       "      <td>25.0</td>\n",
       "      <td>7.85420</td>\n",
       "      <td>0.0</td>\n",
       "      <td>1101.0</td>\n",
       "      <td>0.0</td>\n",
       "    </tr>\n",
       "  </tbody>\n",
       "</table>\n",
       "</div>"
      ],
      "text/plain": [
       "                        Age       Fare  Parch  PassengerId  SibSp\n",
       "Sex    Pclass Title                                              \n",
       "female 1      Miss     32.0  158.20835    0.0       1074.0    0.0\n",
       "              Mrs      48.0   63.35830    0.0       1076.0    1.0\n",
       "              Royalty  39.0  108.90000    0.0       1306.0    0.0\n",
       "       2      Miss     19.5   24.50000    1.0       1121.0    1.0\n",
       "              Mrs      29.0   26.00000    0.0       1123.5    0.0\n",
       "       3      Miss     22.0    7.87920    0.0       1090.5    0.0\n",
       "              Mrs      28.0   14.28125    0.5       1048.0    1.0\n",
       "male   1      Master    9.5  198.43750    2.0       1022.0    1.0\n",
       "              Mr       42.0   50.24790    0.0       1102.0    0.0\n",
       "              Officer  53.0   81.85830    0.0       1094.0    1.0\n",
       "       2      Master    5.0   27.75000    1.5       1033.5    0.5\n",
       "              Mr       28.0   13.00000    0.0       1156.0    0.0\n",
       "              Officer  35.5   19.50000    0.5       1048.5    0.5\n",
       "       3      Master    7.0   15.24580    1.0       1173.0    1.0\n",
       "              Mr       25.0    7.85420    0.0       1101.0    0.0"
      ]
     },
     "execution_count": 15,
     "metadata": {},
     "output_type": "execute_result"
    }
   ],
   "source": [
    "grouped_median_test"
   ]
  },
  {
   "cell_type": "code",
   "execution_count": 16,
   "metadata": {
    "collapsed": true
   },
   "outputs": [],
   "source": [
    "#to more accurately estimate the age of the passengers with missing age data, \n",
    "#age will be filled with the median age based on sex, Pclass, and title\n",
    "\n",
    "def fillAge(row, grouped_median):\n",
    "    if (row['Sex'] == 'female') & (row['Pclass'] == 1):\n",
    "        if row['Title'] == 'Miss':\n",
    "            return grouped_median.loc['female', 1, 'Miss']['Age']\n",
    "        elif row['Title'] == 'Mrs':\n",
    "            return grouped_median.loc['female', 1, 'Mrs']['Age']\n",
    "        elif row['Title'] == 'Officer':\n",
    "            return grouped_median.loc['female', 1, 'Officer']['Age']\n",
    "        elif row['Title'] == 'Royalty':\n",
    "            return grouped_median.loc['female', 1, 'Royalty']['Age']\n",
    "    \n",
    "    elif (row['Sex'] == 'female') & (row['Pclass'] == 2):\n",
    "        if row['Title'] == 'Miss':\n",
    "            return grouped_median.loc['female', 2, 'Miss']['Age']\n",
    "        elif row['Title'] == 'Mrs':\n",
    "            return grouped_median.loc['female', 2, 'Mrs']['Age']\n",
    "    \n",
    "    elif (row['Sex'] == 'female') & (row['Pclass'] == 3):\n",
    "        if row['Title'] == 'Miss':\n",
    "            return grouped_median.loc['female', 3, 'Miss']['Age']\n",
    "        elif row['Title'] == 'Mrs':\n",
    "            return grouped_median.loc['female', 3, 'Mrs']['Age']\n",
    "    \n",
    "    elif row['Sex']=='male' and row['Pclass'] == 1:\n",
    "        if row['Title'] == 'Master':\n",
    "            return grouped_median.loc['male', 1, 'Master']['Age']\n",
    "        elif row['Title'] == 'Mr':\n",
    "            return grouped_median.loc['male', 1, 'Mr']['Age']\n",
    "        elif row['Title'] == 'Officer':\n",
    "            return grouped_median.loc['male', 1, 'Officer']['Age']\n",
    "        elif row['Title'] == 'Royalty':\n",
    "            return grouped_median.loc['male', 1, 'Royalty']['Age']\n",
    "        \n",
    "    elif row['Sex']=='male' and row['Pclass'] == 2:\n",
    "        if row['Title'] == 'Master':\n",
    "            return grouped_median.loc['male', 2, 'Master']['Age']\n",
    "        elif row['Title'] == 'Mr':\n",
    "            return grouped_median.loc['male', 2, 'Mr']['Age']\n",
    "        elif row['Title'] == 'Officer':\n",
    "            return grouped_median.loc['male', 2, 'Officer']['Age']\n",
    "        \n",
    "    elif row['Sex']=='male' and row['Pclass'] == 3:\n",
    "        if row['Title'] == 'Master':\n",
    "            return grouped_median.loc['male', 3, 'Master']['Age']\n",
    "        elif row['Title'] == 'Mr':\n",
    "            return grouped_median.loc['male', 3, 'Mr']['Age']\n",
    "\n",
    "new_df.head(891).Age = new_df.head(891).apply(lambda x : fillAge(x, grouped_median_train) if np.isnan(x['Age']) \n",
    "                                                      else x['Age'], axis=1)        \n",
    "new_df.iloc[891:].Age = new_df.iloc[891:].apply(lambda x : fillAge(x, grouped_median_test) if np.isnan(x['Age']) \n",
    "                                                      else x['Age'], axis=1)        \n"
   ]
  },
  {
   "cell_type": "code",
   "execution_count": 17,
   "metadata": {
    "collapsed": true
   },
   "outputs": [],
   "source": [
    "#after the ages have been filled in, name can be dropped and title is concatentated as dummy variables\n",
    "new_df.drop('Name',axis=1,inplace=True)\n",
    "\n",
    "titles_dummies = pd.get_dummies(new_df['Title'],prefix='Title')\n",
    "new_df = pd.concat([new_df,titles_dummies],axis=1)\n",
    "\n",
    "new_df.drop('Title',axis=1,inplace=True)"
   ]
  },
  {
   "cell_type": "code",
   "execution_count": 18,
   "metadata": {
    "collapsed": true
   },
   "outputs": [],
   "source": [
    "#embarked is added as dummy variables as well\n",
    "embarked_dummies = pd.get_dummies(new_df['Embarked'],prefix='Embarked')\n",
    "new_df = pd.concat([new_df,embarked_dummies],axis=1)\n",
    "new_df.drop('Embarked',axis=1,inplace=True)"
   ]
  },
  {
   "cell_type": "code",
   "execution_count": 19,
   "metadata": {
    "collapsed": true
   },
   "outputs": [],
   "source": [
    "#the cabin along with sex and pclass are also added as a dummy variable\n",
    "new_df['Cabin'] = new_df['Cabin'].map(lambda c : c[0])\n",
    "\n",
    "cabin_dummies = pd.get_dummies(new_df['Cabin'], prefix='Cabin')\n",
    "new_df = pd.concat([new_df,cabin_dummies], axis=1)\n",
    "    \n",
    "new_df.drop('Cabin', axis=1, inplace=True)"
   ]
  },
  {
   "cell_type": "code",
   "execution_count": 20,
   "metadata": {
    "collapsed": true
   },
   "outputs": [],
   "source": [
    "new_df['Sex'] = new_df['Sex'].map({'male':0,'female':1})"
   ]
  },
  {
   "cell_type": "code",
   "execution_count": 21,
   "metadata": {
    "collapsed": true
   },
   "outputs": [],
   "source": [
    "pclass_dummies = pd.get_dummies(new_df['Pclass'], prefix=\"Pclass\")\n",
    "new_df = pd.concat([new_df,pclass_dummies],axis=1)\n",
    "new_df.drop('Pclass',axis=1,inplace=True)"
   ]
  },
  {
   "cell_type": "code",
   "execution_count": 22,
   "metadata": {
    "collapsed": true
   },
   "outputs": [],
   "source": [
    "#the ticket prefix is extracted so that it can also be added as dummy variables\n",
    "def cleanTicket(ticket):\n",
    "    ticket = ticket.replace('.','')\n",
    "    ticket = ticket.replace('/','')\n",
    "    ticket = ticket.split()\n",
    "    ticket = map(lambda t : t.strip(), ticket)\n",
    "    ticket = filter(lambda t : not t.isdigit(), ticket)\n",
    "    if len(ticket) > 0:\n",
    "        return ticket[0]\n",
    "    else: \n",
    "        return 'XXX'\n",
    "\n",
    "new_df['Ticket'] = new_df['Ticket'].map(cleanTicket)    \n",
    "tickets_dummies = pd.get_dummies(new_df['Ticket'], prefix='Ticket')\n",
    "new_df = pd.concat([new_df, tickets_dummies], axis=1)\n",
    "new_df.drop('Ticket', inplace=True, axis=1)"
   ]
  },
  {
   "cell_type": "code",
   "execution_count": 23,
   "metadata": {
    "collapsed": true
   },
   "outputs": [],
   "source": [
    "#families are more likely to survive so family size is added as a feature in addition whether the family is large or small\n",
    "new_df['FamilySize'] = new_df['Parch'] + new_df['SibSp'] + 1\n",
    "new_df['Singleton'] = new_df['FamilySize'].map(lambda x: 1 if x == 1 else 0)\n",
    "new_df['SmallFamily'] = new_df['FamilySize'].map(lambda x: 1 if 2<=x<=4 else 0)\n",
    "new_df['LargeFamily'] = new_df['FamilySize'].map(lambda x: 1 if 5<=x else 0)"
   ]
  },
  {
   "cell_type": "code",
   "execution_count": 24,
   "metadata": {
    "collapsed": true
   },
   "outputs": [],
   "source": [
    "new_df.drop('PassengerId', inplace=True, axis=1)"
   ]
  },
  {
   "cell_type": "markdown",
   "metadata": {},
   "source": [
    "## Modeling:\n",
    "now that special features have been extracted, the data set can now be used to make predictions"
   ]
  },
  {
   "cell_type": "code",
   "execution_count": 25,
   "metadata": {
    "collapsed": true
   },
   "outputs": [],
   "source": [
    "#split data set into training and testing sets\n",
    "df_train = new_df[:len(train)]\n",
    "df_test = new_df[len(train):]"
   ]
  },
  {
   "cell_type": "code",
   "execution_count": 26,
   "metadata": {
    "collapsed": true
   },
   "outputs": [],
   "source": [
    "#define the features\n",
    "features = list(new_df.columns)\n",
    "x = df_train[features]"
   ]
  },
  {
   "cell_type": "code",
   "execution_count": 27,
   "metadata": {
    "collapsed": true
   },
   "outputs": [],
   "source": [
    "#split the training set into train and test sets\n",
    "x_train, x_test, y_train, y_test = train_test_split(x, y, train_size=.8, random_state=0)"
   ]
  },
  {
   "cell_type": "code",
   "execution_count": 28,
   "metadata": {
    "collapsed": true
   },
   "outputs": [],
   "source": [
    "#the model that will be used will be the Random Forest classifier\n",
    "clf = RandomForestClassifier(n_estimators=50)\n",
    "rf = clf.fit(x_train,y_train)\n",
    "\n",
    "#in order to further optimize which features have a significant impact the accuracy of the model\n",
    "#a tree-based estimator is used to find out which features are irrelevant\n",
    "features = pd.DataFrame()\n",
    "features['feature'] = df_train.columns\n",
    "features['importance'] = clf.feature_importances_\n",
    "features.sort_values(by=['importance'], ascending=True, inplace=True)\n",
    "features.set_index('feature', inplace=True)"
   ]
  },
  {
   "cell_type": "code",
   "execution_count": 29,
   "metadata": {},
   "outputs": [
    {
     "data": {
      "text/plain": [
       "<matplotlib.axes._subplots.AxesSubplot at 0x11f0a6a90>"
      ]
     },
     "execution_count": 29,
     "metadata": {},
     "output_type": "execute_result"
    },
    {
     "data": {
      "image/png": "[encoded data removed]",
      "text/plain": [
       "<matplotlib.figure.Figure at 0x11e9c6a90>"
      ]
     },
     "metadata": {},
     "output_type": "display_data"
    }
   ],
   "source": [
    "features.plot(kind='barh', figsize=(20, 20))"
   ]
  },
  {
   "cell_type": "code",
   "execution_count": 30,
   "metadata": {},
   "outputs": [
    {
     "data": {
      "text/plain": [
       "(712, 12)"
      ]
     },
     "execution_count": 30,
     "metadata": {},
     "output_type": "execute_result"
    }
   ],
   "source": [
    "model = SelectFromModel(clf, prefit=True)\n",
    "train_reduced = model.transform(x_train)\n",
    "train_reduced.shape"
   ]
  },
  {
   "cell_type": "markdown",
   "metadata": {},
   "source": [
    "in order to optimize the algorithm, the parameters for the algorithm were fine tuned"
   ]
  },
  {
   "cell_type": "code",
   "execution_count": 31,
   "metadata": {},
   "outputs": [
    {
     "data": {
      "text/plain": [
       "RandomForestClassifier(bootstrap=False, class_weight=None, criterion='gini',\n",
       "            max_depth=6, max_features='sqrt', max_leaf_nodes=None,\n",
       "            min_impurity_split=1e-07, min_samples_leaf=3,\n",
       "            min_samples_split=10, min_weight_fraction_leaf=0.0,\n",
       "            n_estimators=50, n_jobs=1, oob_score=False, random_state=None,\n",
       "            verbose=0, warm_start=False)"
      ]
     },
     "execution_count": 31,
     "metadata": {},
     "output_type": "execute_result"
    }
   ],
   "source": [
    "parameters = {'bootstrap': False, 'min_samples_leaf': 3, 'n_estimators': 50, \n",
    "                  'min_samples_split': 10, 'max_features': 'sqrt', 'max_depth': 6}\n",
    "model = RandomForestClassifier(**parameters)\n",
    "model.fit(x_train, y_train)"
   ]
  },
  {
   "cell_type": "code",
   "execution_count": 32,
   "metadata": {},
   "outputs": [
    {
     "data": {
      "text/plain": [
       "0.83014620979859222"
      ]
     },
     "execution_count": 32,
     "metadata": {},
     "output_type": "execute_result"
    }
   ],
   "source": [
    "def compute_score(clf, X, y, scoring='accuracy'):\n",
    "    xval = cross_val_score(clf, X, y, cv = 5, scoring=scoring)\n",
    "    return np.mean(xval)\n",
    "\n",
    "compute_score(model, x_train, y_train, scoring='accuracy')"
   ]
  },
  {
   "cell_type": "code",
   "execution_count": 33,
   "metadata": {
    "collapsed": true
   },
   "outputs": [],
   "source": [
    "test['Survived'] = model.predict(df_test).astype(int)\n",
    "test[['PassengerId', 'Survived']].to_csv('results.csv', index=False)"
   ]
  },
  {
   "cell_type": "code",
   "execution_count": null,
   "metadata": {
    "collapsed": true
   },
   "outputs": [],
   "source": []
  },
  {
   "cell_type": "code",
   "execution_count": null,
   "metadata": {
    "collapsed": true
   },
   "outputs": [],
   "source": []
  }
 ],
 "metadata": {
  "kernelspec": {
   "display_name": "Python 2",
   "language": "python",
   "name": "python2"
  },
  "language_info": {
   "codemirror_mode": {
    "name": "ipython",
    "version": 2
   },
   "file_extension": ".py",
   "mimetype": "text/x-python",
   "name": "python",
   "nbconvert_exporter": "python",
   "pygments_lexer": "ipython2",
   "version": "2.7.13"
  }
 },
 "nbformat": 4,
 "nbformat_minor": 2
}
